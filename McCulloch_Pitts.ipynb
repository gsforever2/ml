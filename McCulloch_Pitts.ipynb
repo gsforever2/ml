{
  "nbformat": 4,
  "nbformat_minor": 0,
  "metadata": {
    "colab": {
      "provenance": []
    },
    "kernelspec": {
      "name": "python3",
      "display_name": "Python 3"
    },
    "language_info": {
      "name": "python"
    }
  },
  "cells": [
    {
      "cell_type": "code",
      "execution_count": 1,
      "metadata": {
        "colab": {
          "base_uri": "https://localhost:8080/"
        },
        "id": "y9H59eJgt79Q",
        "outputId": "b24a2917-7b4a-4e4b-a7d9-895a1e6b2840"
      },
      "outputs": [
        {
          "output_type": "stream",
          "name": "stdout",
          "text": [
            "Input: [0 0], Output: 0\n",
            "Input: [0 1], Output: 1\n",
            "Input: [1 0], Output: 1\n",
            "Input: [1 1], Output: 1\n",
            "Input: [0 0], Output: 0\n",
            "Input: [0 1], Output: 0\n",
            "Input: [1 0], Output: 0\n",
            "Input: [1 1], Output: 1\n"
          ]
        }
      ],
      "source": [
        "import numpy as np\n",
        "\n",
        "class McCullochPittsNeuron:\n",
        "    def __init__(self, weights, threshold):\n",
        "        self.weights = weights\n",
        "        self.threshold = threshold\n",
        "\n",
        "    def activate(self, inputs):\n",
        "        summation = np.dot(inputs, self.weights)\n",
        "        return 1 if summation >= self.threshold else 0\n",
        "\n",
        "# OR Gate\n",
        "or_weights = np.array([1, 1])\n",
        "or_threshold = 1\n",
        "or_neuron = McCullochPittsNeuron(or_weights, or_threshold)\n",
        "\n",
        "# Test cases for OR gate\n",
        "or_inputs = np.array([[0, 0], [0, 1], [1, 0], [1, 1]])\n",
        "for input_pair in or_inputs:\n",
        "    output = or_neuron.activate(input_pair)\n",
        "    print(f\"Input: {input_pair}, Output: {output}\")\n",
        "\n",
        "# AND Gate\n",
        "and_weights = np.array([1, 1])\n",
        "and_threshold = 2\n",
        "and_neuron = McCullochPittsNeuron(and_weights, and_threshold)\n",
        "\n",
        "# Test cases for AND gate\n",
        "and_inputs = np.array([[0, 0], [0, 1], [1, 0], [1, 1]])\n",
        "for input_pair in and_inputs:\n",
        "    output = and_neuron.activate(input_pair)\n",
        "    print(f\"Input: {input_pair}, Output: {output}\")"
      ]
    },
    {
      "cell_type": "code",
      "source": [],
      "metadata": {
        "id": "6YphsYbqt-Qb"
      },
      "execution_count": null,
      "outputs": []
    }
  ]
}