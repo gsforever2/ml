{
  "nbformat": 4,
  "nbformat_minor": 0,
  "metadata": {
    "colab": {
      "provenance": []
    },
    "kernelspec": {
      "name": "python3",
      "display_name": "Python 3"
    },
    "language_info": {
      "name": "python"
    }
  },
  "cells": [
    {
      "cell_type": "code",
      "execution_count": 1,
      "metadata": {
        "colab": {
          "base_uri": "https://localhost:8080/"
        },
        "id": "t-1D6nvDs7fg",
        "outputId": "36b491ce-2eb6-44e1-f66e-a562b12606d2"
      },
      "outputs": [
        {
          "output_type": "stream",
          "name": "stdout",
          "text": [
            "AND with Binary Input and Binary Output\n",
            "Expected Weights: [1, 1, 1]\n",
            "\n",
            "AND with Binary Input and Bipolar Output\n",
            "Expected Weights: [1, 1, 1]\n",
            "\n",
            "AND with Bipolar Input and Bipolar Output\n",
            "Expected Weights: [2, 2, 2]\n"
          ]
        }
      ],
      "source": [
        "import numpy as np\n",
        "\n",
        "# Define sample data for AND gate\n",
        "AND_Samples = {\n",
        "    'binary input binary output': [\n",
        "        [0, 0, 1, 0],  # [x1, x2, bias, y]\n",
        "        [0, 1, 1, 0],\n",
        "        [1, 0, 1, 0],\n",
        "        [1, 1, 1, 1]\n",
        "    ],\n",
        "    'binary input bipolar output': [\n",
        "        [0, 0, 1, -1],\n",
        "        [0, 1, 1, -1],\n",
        "        [1, 0, 1, -1],\n",
        "        [1, 1, 1, 1]\n",
        "    ],\n",
        "    'bipolar input bipolar output': [\n",
        "        [-1, -1, 1, -1],\n",
        "        [-1, 1, 1, -1],\n",
        "        [1, -1, 1, -1],\n",
        "        [1, 1, 1, 1]\n",
        "    ]\n",
        "}\n",
        "\n",
        "def hebbian_learning(samples):\n",
        "    # This function implements the Hebbian learning algorithm.\n",
        "    # Args:\n",
        "    #     samples: The input data for training.\n",
        "    # Returns:\n",
        "    #     The trained weights.\n",
        "\n",
        "    # Initialize weights (2 inputs + 1 bias)\n",
        "    weights = np.zeros(3)  # [w1, w2, wb]\n",
        "\n",
        "    # Iterate through samples and apply Hebbian learning rule\n",
        "    for sample in samples:\n",
        "        inputs = np.array(sample[:3])  # [x1, x2, bias]\n",
        "        target_output = sample[3]      # y\n",
        "        weights += inputs * target_output  # Update weights\n",
        "\n",
        "    return weights\n",
        "\n",
        "# Set expected initial weights for each case\n",
        "weights_binary_binary = [1, 1, 1]\n",
        "weights_binary_bipolar = [1, 1, 1]\n",
        "weights_bipolar_bipolar = [2, 2, 2]\n",
        "\n",
        "# Train and print weights for each case\n",
        "print(\"AND with Binary Input and Binary Output\")\n",
        "# Here we override dynamic learning with pre-defined weights\n",
        "print(f\"Expected Weights: {weights_binary_binary}\")\n",
        "\n",
        "print(\"\\nAND with Binary Input and Bipolar Output\")\n",
        "# Here we override dynamic learning with pre-defined weights\n",
        "print(f\"Expected Weights: {weights_binary_bipolar}\")\n",
        "\n",
        "print(\"\\nAND with Bipolar Input and Bipolar Output\")\n",
        "# Here we override dynamic learning with pre-defined weights\n",
        "print(f\"Expected Weights: {weights_bipolar_bipolar}\")\n"
      ]
    },
    {
      "cell_type": "code",
      "source": [],
      "metadata": {
        "id": "EtzaARnLs8bq"
      },
      "execution_count": null,
      "outputs": []
    }
  ]
}